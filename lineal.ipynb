{
  "nbformat": 4,
  "nbformat_minor": 0,
  "metadata": {
    "colab": {
      "provenance": [],
      "authorship_tag": "ABX9TyOar3D6WBAuUuN7hLjNamyC",
      "include_colab_link": true
    },
    "kernelspec": {
      "name": "python3",
      "display_name": "Python 3"
    },
    "language_info": {
      "name": "python"
    }
  },
  "cells": [
    {
      "cell_type": "markdown",
      "metadata": {
        "id": "view-in-github",
        "colab_type": "text"
      },
      "source": [
        "<a href=\"https://colab.research.google.com/github/nikikiT/crypto/blob/main/lineal.ipynb\" target=\"_parent\"><img src=\"https://colab.research.google.com/assets/colab-badge.svg\" alt=\"Open In Colab\"/></a>"
      ]
    },
    {
      "cell_type": "markdown",
      "source": [
        "**Кодирование и декодирование**"
      ],
      "metadata": {
        "id": "XUJ4Eq6r1d8T"
      }
    },
    {
      "cell_type": "code",
      "execution_count": null,
      "metadata": {
        "id": "dpV6w2__tmsB"
      },
      "outputs": [],
      "source": [
        "import string\n",
        "\n",
        "def preprocessing(m):\n",
        "    m = m.replace(\" \",\"\").replace(\",\",\"\").replace(\".\",\"\").replace(\"'\",\"\").replace(\":\",\"\").replace(\";\",\"\")\n",
        "    m = m.lower()\n",
        "    return m\n",
        "\n",
        "def lettersOfPlaintext(m):\n",
        "    letters = []\n",
        "    for i in range(0, len(m)):\n",
        "        letters.append(m[i])\n",
        "    return letters\n",
        "\n",
        "def letterToNumber(letter):\n",
        "    return string.ascii_lowercase.index(letter)\n",
        "\n",
        "def numberToLetter(number):\n",
        "    return chr(int(number) + 97)\n",
        "\n",
        "def module(letter_index):\n",
        "\n",
        "    while(letter_index < 0):\n",
        "        letter_index += 26\n",
        "\n",
        "    while(letter_index > 25):\n",
        "        letter_index -= 26\n",
        "\n",
        "    return letter_index\n"
      ]
    },
    {
      "cell_type": "code",
      "source": [
        "m = \"attack to night\"\n",
        "\n",
        "import commons\n",
        "m = preprocessing(m) # Избавляемся от пробелов\n",
        "m"
      ],
      "metadata": {
        "colab": {
          "base_uri": "https://localhost:8080/",
          "height": 36
        },
        "id": "6V_Z6cODvg6X",
        "outputId": "f9a76c82-e9e8-4eaf-aa35-078516ac24c8"
      },
      "execution_count": null,
      "outputs": [
        {
          "output_type": "execute_result",
          "data": {
            "text/plain": [
              "'attacktonight'"
            ],
            "application/vnd.google.colaboratory.intrinsic+json": {
              "type": "string"
            }
          },
          "metadata": {},
          "execution_count": 15
        }
      ]
    },
    {
      "cell_type": "code",
      "source": [
        "plaintext = commons.lettersOfPlaintext(m) #Разделение на массив чисел\n",
        "plaintext"
      ],
      "metadata": {
        "colab": {
          "base_uri": "https://localhost:8080/"
        },
        "id": "zHRAV192yXO0",
        "outputId": "a382684b-d26e-4ba8-8997-45e69bdc6543"
      },
      "execution_count": null,
      "outputs": [
        {
          "output_type": "execute_result",
          "data": {
            "text/plain": [
              "['a', 't', 't', 'a', 'c', 'k', 't', 'o', 'n', 'i', 'g', 'h', 't']"
            ]
          },
          "metadata": {},
          "execution_count": 16
        }
      ]
    },
    {
      "cell_type": "code",
      "source": [
        "a = 3; b = -4 #???\n",
        "ciphertext = []\n",
        "for i in plaintext:\n",
        "    x = commons.letterToNumber(i)\n",
        "    y = a * x + b #Линейная функция\n",
        "    y = commons.module(y) #Сдвиг при переполнении\n",
        "    ciphertext.append(commons.numberToLetter(y))\n",
        "ciphertext\n",
        "\n",
        "# y % n =  ( a * x + b) % n\n",
        "# a and n must be coprime"
      ],
      "metadata": {
        "colab": {
          "base_uri": "https://localhost:8080/"
        },
        "id": "aR2F9f7gySmz",
        "outputId": "ccec43a9-f392-49c3-84d9-cc29b4940ab9"
      },
      "execution_count": null,
      "outputs": [
        {
          "output_type": "execute_result",
          "data": {
            "text/plain": [
              "['w', 'b', 'b', 'w', 'c', 'a', 'b', 'm', 'j', 'u', 'o', 'r', 'b']"
            ]
          },
          "metadata": {},
          "execution_count": 21
        }
      ]
    },
    {
      "cell_type": "code",
      "source": [
        "def modInverse(a, n=26):\n",
        "    #(a * inv_a) % n\n",
        "    for i in range(1, n): #Для всех английских букв\n",
        "        if (i * a) % n == 1:\n",
        "            return i"
      ],
      "metadata": {
        "id": "2R-f09QuzO0Q"
      },
      "execution_count": null,
      "outputs": []
    },
    {
      "cell_type": "code",
      "source": [
        "restored_text = []\n",
        "for i in ciphertext:\n",
        "    y = commons.letterToNumber(i)\n",
        "    x = (y - b) * modInverse(a) #x = (y - b)/a\n",
        "    x = commons.module(x)\n",
        "    restored_text.append(commons.numberToLetter(x))"
      ],
      "metadata": {
        "id": "tA2zuK_6zsfX"
      },
      "execution_count": null,
      "outputs": []
    },
    {
      "cell_type": "markdown",
      "source": [],
      "metadata": {
        "id": "w0wI94oN1cBZ"
      }
    },
    {
      "cell_type": "code",
      "source": [
        "restored_text"
      ],
      "metadata": {
        "colab": {
          "base_uri": "https://localhost:8080/"
        },
        "id": "826aQ0Dmz2lM",
        "outputId": "786ad312-918a-4bf7-d5cd-f9bd9f1912ab"
      },
      "execution_count": null,
      "outputs": [
        {
          "output_type": "execute_result",
          "data": {
            "text/plain": [
              "['a', 't', 't', 'a', 'c', 'k', 't', 'o', 'n', 'i', 'g', 'h', 't']"
            ]
          },
          "metadata": {},
          "execution_count": 24
        }
      ]
    },
    {
      "cell_type": "markdown",
      "source": [],
      "metadata": {
        "id": "1CMPi0d2vjVl"
      }
    }
  ]
}